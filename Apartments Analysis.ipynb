{
 "cells": [
  {
   "cell_type": "code",
   "execution_count": 56,
   "id": "484c65ad",
   "metadata": {},
   "outputs": [],
   "source": [
    "import pandas as pd\n",
    "import smtplib\n",
    "\n",
    "df = pd.read_csv(\"Apartments.csv\", encoding=\"utf-16\", delimiter = \";\", error_bad_lines = False)\n",
    "df.head()\n",
    "\n",
    "### Dealing with missing data\n",
    "\n",
    "#df[df.isnull().any(axis= 1)]\n",
    "\n",
    "df.dropna(inplace = True)\n",
    "df.reset_index(inplace = True, drop = True)\n",
    "\n",
    "### Check for duplicates\n",
    "\n",
    "#df.duplicated().any()"
   ]
  },
  {
   "cell_type": "markdown",
   "id": "51dcd361",
   "metadata": {},
   "source": [
    "#### Change data coding"
   ]
  },
  {
   "cell_type": "code",
   "execution_count": 6,
   "id": "6e7b02bd",
   "metadata": {},
   "outputs": [],
   "source": [
    "# removing spaces\n",
    "cols = df.columns\n",
    "\n",
    "for col in df.columns:\n",
    "    df[f\"{col}\"] = df[f\"{col}\"].str.strip()"
   ]
  },
  {
   "cell_type": "code",
   "execution_count": 7,
   "id": "c1332fd9",
   "metadata": {},
   "outputs": [],
   "source": [
    "# seperate data for price per agreement\n",
    "po_dogovoru = df[df[\"price\"] == \"Po dogovoru\"]\n",
    "po_dogovoru.reset_index(inplace = True, drop = True)\n",
    "\n",
    "\n",
    "# seperate action price\n",
    "akcija = df[df[\"price\"] == \"Stanje\"]\n",
    "\n",
    "\n",
    "# good data\n",
    "df = df[(df[\"price\"] != \"Po dogovoru\") & (df[\"price\"] != \"Stanje\")]\n",
    "df.reset_index(inplace = True, drop = True)"
   ]
  },
  {
   "cell_type": "code",
   "execution_count": 8,
   "id": "14db281f",
   "metadata": {},
   "outputs": [
    {
     "name": "stderr",
     "output_type": "stream",
     "text": [
      "C:\\Users\\Amar\\AppData\\Local\\Temp\\ipykernel_7100\\1189281472.py:8: FutureWarning: The default value of regex will change from True to False in a future version. In addition, single character regular expressions will *not* be treated as literal strings when regex=True.\n",
      "  df[\"price\"] = df[\"price\"].str.replace(\".\", \"\")\n"
     ]
    }
   ],
   "source": [
    "# PRICE\n",
    "\n",
    "# remove currency\n",
    "df[\"price\"] = df[\"price\"].str[:-2].str.strip()\n",
    "\n",
    "\n",
    "# remove \".\"\n",
    "df[\"price\"] = df[\"price\"].str.replace(\".\", \"\")\n",
    "\n",
    "\n",
    "# change price to numeric\n",
    "df[\"price\"] = pd.to_numeric(df[\"price\"])"
   ]
  },
  {
   "cell_type": "code",
   "execution_count": 9,
   "id": "32f896bf",
   "metadata": {},
   "outputs": [],
   "source": [
    "# sqm\n",
    "\n",
    "# taking just numbers\n",
    "df[\"n of sqm\"] = df[\"n of sqm\"].str[:2]\n",
    "\n",
    "\n",
    "# removing non num entries\n",
    "numbers = [str(i) for i in range(100)]\n",
    "\n",
    "df = df[df[\"n of sqm\"].isin(numbers)]\n",
    "df.reset_index(inplace = True, drop = True)\n",
    "\n",
    "\n",
    "# change to numeric\n",
    "df[\"n of sqm\"] = pd.to_numeric(df[\"n of sqm\"])"
   ]
  },
  {
   "cell_type": "code",
   "execution_count": 17,
   "id": "ea351e63",
   "metadata": {},
   "outputs": [],
   "source": [
    "# create price of sqm\n",
    "\n",
    "df[\"price_sqm\"] = df[\"price\"]/df[\"n of sqm\"]"
   ]
  },
  {
   "cell_type": "code",
   "execution_count": 49,
   "id": "dba1f416",
   "metadata": {},
   "outputs": [],
   "source": [
    "# n of rooms\n",
    "\n",
    "# recode\n",
    "df[\"n of rooms\"].replace(\n",
    "    \n",
    "    {\"Trosoban (3)\": \"3\",\n",
    "     \"Dvosoban (2)\": \"2\",\n",
    "     \"Četverosoban (4)\": \"4\",\n",
    "     \"Jednosoban (1)\": \"1\",\n",
    "     \"Petosoban i više\": \"5\",\n",
    "     \"Garsonjera\" : \"0\",\n",
    "     \"Jednoiposoban (1.5)\": \"1.5\",}, inplace = True)\n",
    "\n",
    "# convert to num\n",
    "df[\"n of rooms\"] = pd.to_numeric(df[\"n of rooms\"], downcast = \"float\")"
   ]
  },
  {
   "cell_type": "code",
   "execution_count": null,
   "id": "2d372f00",
   "metadata": {},
   "outputs": [],
   "source": []
  },
  {
   "cell_type": "code",
   "execution_count": null,
   "id": "db70dcd7",
   "metadata": {},
   "outputs": [],
   "source": []
  },
  {
   "cell_type": "code",
   "execution_count": null,
   "id": "cc08941d",
   "metadata": {},
   "outputs": [],
   "source": []
  },
  {
   "cell_type": "code",
   "execution_count": null,
   "id": "95c066b4",
   "metadata": {},
   "outputs": [],
   "source": []
  },
  {
   "cell_type": "code",
   "execution_count": null,
   "id": "c6cb6519",
   "metadata": {},
   "outputs": [],
   "source": []
  },
  {
   "cell_type": "code",
   "execution_count": null,
   "id": "8d052480",
   "metadata": {},
   "outputs": [],
   "source": []
  },
  {
   "cell_type": "code",
   "execution_count": 51,
   "id": "07d78f86",
   "metadata": {},
   "outputs": [
    {
     "data": {
      "text/plain": [
       "header             object\n",
       "location           object\n",
       "price               int64\n",
       "publish date       object\n",
       "n of sqm            int64\n",
       "floor              object\n",
       "n of rooms        float32\n",
       "furnished?         object\n",
       "heating system     object\n",
       "link               object\n",
       "price_sqm         float64\n",
       "dtype: object"
      ]
     },
     "execution_count": 51,
     "metadata": {},
     "output_type": "execute_result"
    }
   ],
   "source": [
    "df.dtypes"
   ]
  },
  {
   "cell_type": "code",
   "execution_count": null,
   "id": "cd1cf19f",
   "metadata": {},
   "outputs": [],
   "source": [
    "# e-mail setup\n",
    "\n",
    "sender_email = \"amar.aladzuz@outlook.com\"\n",
    "rec_email = \"amar.aladzuz@outlook.com\"\n",
    "password = input(str(\"Please enter pass: \"))\n",
    "mssg = \"test\"\n",
    "\n",
    "server = smtplib.SMTP(\"smtp-mail.outlook.com\", 587)\n",
    "server.starttls()\n",
    "\n",
    "\n",
    "server.login(sender_email, password)\n",
    "print(\"Login success\")\n",
    "\n",
    "server.sendmail(sender_email, rec_email, mssg)\n",
    "print(\"Email sent\")"
   ]
  }
 ],
 "metadata": {
  "kernelspec": {
   "display_name": "Python 3 (ipykernel)",
   "language": "python",
   "name": "python3"
  },
  "language_info": {
   "codemirror_mode": {
    "name": "ipython",
    "version": 3
   },
   "file_extension": ".py",
   "mimetype": "text/x-python",
   "name": "python",
   "nbconvert_exporter": "python",
   "pygments_lexer": "ipython3",
   "version": "3.8.13"
  }
 },
 "nbformat": 4,
 "nbformat_minor": 5
}
